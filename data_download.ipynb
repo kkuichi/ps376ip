{
 "cells": [
  {
   "cell_type": "code",
   "execution_count": 1,
   "metadata": {},
   "outputs": [
    {
     "name": "stdout",
     "output_type": "stream",
     "text": [
      "Collecting vitaldb\n",
      "  Downloading vitaldb-1.5.2-py3-none-any.whl.metadata (314 bytes)\n",
      "Requirement already satisfied: numpy in /opt/conda/lib/python3.12/site-packages (from vitaldb) (2.1.3)\n",
      "Requirement already satisfied: pandas in /opt/conda/lib/python3.12/site-packages (from vitaldb) (2.2.3)\n",
      "Requirement already satisfied: requests in /opt/conda/lib/python3.12/site-packages (from vitaldb) (2.32.3)\n",
      "Collecting wfdb (from vitaldb)\n",
      "  Downloading wfdb-4.3.0-py3-none-any.whl.metadata (3.8 kB)\n",
      "Requirement already satisfied: python-dateutil>=2.8.2 in /opt/conda/lib/python3.12/site-packages (from pandas->vitaldb) (2.9.0.post0)\n",
      "Requirement already satisfied: pytz>=2020.1 in /opt/conda/lib/python3.12/site-packages (from pandas->vitaldb) (2025.2)\n",
      "Requirement already satisfied: tzdata>=2022.7 in /opt/conda/lib/python3.12/site-packages (from pandas->vitaldb) (2025.2)\n",
      "Requirement already satisfied: charset_normalizer<4,>=2 in /opt/conda/lib/python3.12/site-packages (from requests->vitaldb) (3.4.1)\n",
      "Requirement already satisfied: idna<4,>=2.5 in /opt/conda/lib/python3.12/site-packages (from requests->vitaldb) (3.10)\n",
      "Requirement already satisfied: urllib3<3,>=1.21.1 in /opt/conda/lib/python3.12/site-packages (from requests->vitaldb) (2.4.0)\n",
      "Requirement already satisfied: certifi>=2017.4.17 in /opt/conda/lib/python3.12/site-packages (from requests->vitaldb) (2025.1.31)\n",
      "Requirement already satisfied: aiohttp>=3.10.11 in /opt/conda/lib/python3.12/site-packages (from wfdb->vitaldb) (3.11.16)\n",
      "Requirement already satisfied: fsspec>=2023.10.0 in /opt/conda/lib/python3.12/site-packages (from wfdb->vitaldb) (2025.3.2)\n",
      "Requirement already satisfied: matplotlib>=3.2.2 in /opt/conda/lib/python3.12/site-packages (from wfdb->vitaldb) (3.10.1)\n",
      "Requirement already satisfied: scipy>=1.13.0 in /opt/conda/lib/python3.12/site-packages (from wfdb->vitaldb) (1.15.2)\n",
      "Collecting soundfile>=0.10.0 (from wfdb->vitaldb)\n",
      "  Downloading soundfile-0.13.1-py2.py3-none-manylinux_2_28_x86_64.whl.metadata (16 kB)\n",
      "Requirement already satisfied: aiohappyeyeballs>=2.3.0 in /opt/conda/lib/python3.12/site-packages (from aiohttp>=3.10.11->wfdb->vitaldb) (2.6.1)\n",
      "Requirement already satisfied: aiosignal>=1.1.2 in /opt/conda/lib/python3.12/site-packages (from aiohttp>=3.10.11->wfdb->vitaldb) (1.3.2)\n",
      "Requirement already satisfied: attrs>=17.3.0 in /opt/conda/lib/python3.12/site-packages (from aiohttp>=3.10.11->wfdb->vitaldb) (25.3.0)\n",
      "Requirement already satisfied: frozenlist>=1.1.1 in /opt/conda/lib/python3.12/site-packages (from aiohttp>=3.10.11->wfdb->vitaldb) (1.5.0)\n",
      "Requirement already satisfied: multidict<7.0,>=4.5 in /opt/conda/lib/python3.12/site-packages (from aiohttp>=3.10.11->wfdb->vitaldb) (6.3.2)\n",
      "Requirement already satisfied: propcache>=0.2.0 in /opt/conda/lib/python3.12/site-packages (from aiohttp>=3.10.11->wfdb->vitaldb) (0.3.1)\n",
      "Requirement already satisfied: yarl<2.0,>=1.17.0 in /opt/conda/lib/python3.12/site-packages (from aiohttp>=3.10.11->wfdb->vitaldb) (1.18.3)\n",
      "Requirement already satisfied: contourpy>=1.0.1 in /opt/conda/lib/python3.12/site-packages (from matplotlib>=3.2.2->wfdb->vitaldb) (1.3.1)\n",
      "Requirement already satisfied: cycler>=0.10 in /opt/conda/lib/python3.12/site-packages (from matplotlib>=3.2.2->wfdb->vitaldb) (0.12.1)\n",
      "Requirement already satisfied: fonttools>=4.22.0 in /opt/conda/lib/python3.12/site-packages (from matplotlib>=3.2.2->wfdb->vitaldb) (4.57.0)\n",
      "Requirement already satisfied: kiwisolver>=1.3.1 in /opt/conda/lib/python3.12/site-packages (from matplotlib>=3.2.2->wfdb->vitaldb) (1.4.8)\n",
      "Requirement already satisfied: packaging>=20.0 in /opt/conda/lib/python3.12/site-packages (from matplotlib>=3.2.2->wfdb->vitaldb) (24.2)\n",
      "Requirement already satisfied: pillow>=8 in /opt/conda/lib/python3.12/site-packages (from matplotlib>=3.2.2->wfdb->vitaldb) (11.1.0)\n",
      "Requirement already satisfied: pyparsing>=2.3.1 in /opt/conda/lib/python3.12/site-packages (from matplotlib>=3.2.2->wfdb->vitaldb) (3.2.3)\n",
      "Requirement already satisfied: six>=1.5 in /opt/conda/lib/python3.12/site-packages (from python-dateutil>=2.8.2->pandas->vitaldb) (1.17.0)\n",
      "Requirement already satisfied: cffi>=1.0 in /opt/conda/lib/python3.12/site-packages (from soundfile>=0.10.0->wfdb->vitaldb) (1.17.1)\n",
      "Requirement already satisfied: pycparser in /opt/conda/lib/python3.12/site-packages (from cffi>=1.0->soundfile>=0.10.0->wfdb->vitaldb) (2.22)\n",
      "Downloading vitaldb-1.5.2-py3-none-any.whl (58 kB)\n",
      "Downloading wfdb-4.3.0-py3-none-any.whl (163 kB)\n",
      "Downloading soundfile-0.13.1-py2.py3-none-manylinux_2_28_x86_64.whl (1.3 MB)\n",
      "\u001b[2K   \u001b[90m━━━━━━━━━━━━━━━━━━━━━━━━━━━━━━━━━━━━━━━━\u001b[0m \u001b[32m1.3/1.3 MB\u001b[0m \u001b[31m40.3 MB/s\u001b[0m eta \u001b[36m0:00:00\u001b[0m\n",
      "\u001b[?25hInstalling collected packages: soundfile, wfdb, vitaldb\n",
      "Successfully installed soundfile-0.13.1 vitaldb-1.5.2 wfdb-4.3.0\n"
     ]
    }
   ],
   "source": [
    "# instalacia kniznice VitalDB\n",
    "!pip install vitaldb"
   ]
  },
  {
   "cell_type": "code",
   "execution_count": 2,
   "metadata": {
    "editable": true,
    "slideshow": {
     "slide_type": ""
    },
    "tags": []
   },
   "outputs": [],
   "source": [
    "import vitaldb\n",
    "import pandas as pd\n",
    "from concurrent.futures import ThreadPoolExecutor, as_completed\n",
    "\n",
    "#Identifikacia pripadov kde su dostuppne data \n",
    "case_ids = vitaldb.find_cases([\"ART_SBP\", \"ART_MBP\"])\n",
    "\n",
    "#Funkcia na stiahnutie dat pre jeden case_id\n",
    "def download_case_data(case_id):\n",
    "    try:\n",
    "        data = vitaldb.load_case(case_id, [\"ART_SBP\", \"ART_MBP\"])\n",
    "        if data is None or len(data) == 0:\n",
    "            return None\n",
    "        df = pd.DataFrame(data, columns=[\"ART_SBP\", \"ART_MBP\"])\n",
    "        df[\"caseid\"] = case_id\n",
    "        return df\n",
    "    except Exception as e:\n",
    "        return None\n",
    "    \n",
    "#Paraelne stahovania \n",
    "bp_data = []\n",
    "with ThreadPoolExecutor(max_workers=10) as executor: \n",
    "    futures = {executor.submit(download_case_data, case_id): case_id for case_id in case_ids}\n",
    "    \n",
    "    for future in as_completed(futures):\n",
    "        result = future.result()\n",
    "        if result is not None:\n",
    "            bp_data.append(result)\n",
    "\n",
    "# Ulozenie do csv suboru\n",
    "bp_df = pd.concat(bp_data, ignore_index=True)\n",
    "bp_df.to_csv(\"blood_pressure_data.csv\", index=False)\n",
    "\n"
   ]
  },
  {
   "cell_type": "code",
   "execution_count": 1,
   "metadata": {},
   "outputs": [
    {
     "name": "stdout",
     "output_type": "stream",
     "text": [
      "            ART_SBP       ART_MBP\n",
      "count  2.049423e+07  2.049423e+07\n",
      "mean   1.107022e+02  7.816586e+01\n",
      "std    3.559405e+01  2.699228e+01\n",
      "min   -9.800000e+01 -9.800000e+01\n",
      "25%    1.010000e+02  7.100000e+01\n",
      "50%    1.140000e+02  8.000000e+01\n",
      "75%    1.280000e+02  9.100000e+01\n",
      "max    3.500000e+02  3.500000e+02\n"
     ]
    }
   ],
   "source": [
    "import pandas as pd\n",
    "df=pd.read_csv(\"blood_pressure_data.csv\")\n",
    "df=df.dropna()\n",
    "# Zakladny popis hodnot dat\n",
    "print(df[[\"ART_SBP\", \"ART_MBP\"]].describe())"
   ]
  },
  {
   "cell_type": "code",
   "execution_count": 2,
   "metadata": {},
   "outputs": [],
   "source": [
    "# Odstranenie hodnot pod dane hranice\n",
    "df_cleaned = df[\n",
    "    (df[\"ART_SBP\"] >= 60) & (df[\"ART_SBP\"] <= 250) &\n",
    "    (df[\"ART_MBP\"] >= 45) & (df[\"ART_MBP\"] <= 150)\n",
    "]\n",
    "\n",
    "\n",
    "df_cleaned.to_csv(\"filtered_blood_pressure_data.csv\", index=False)\n"
   ]
  },
  {
   "cell_type": "code",
   "execution_count": 3,
   "metadata": {},
   "outputs": [],
   "source": [
    "\n",
    "df = pd.read_csv(\"filtered_blood_pressure_data.csv\")\n",
    "\n",
    "# Pridanie indexu k jednotlivým caseid na označenie prvých 2 minút záznamu\n",
    "df[\"row_number\"] = df.groupby(\"caseid\").cumcount()\n",
    "\n",
    "# Vypocet SBP ako priemer prvých 60 hodnôt pre každé caseid\n",
    "baseline_sbp = df[df[\"row_number\"] < 60].groupby(\"caseid\")[\"ART_SBP\"].mean()\n",
    "\n",
    "\n",
    "df = df.merge(baseline_sbp.rename(\"Baseline_SBP\"), on=\"caseid\")\n"
   ]
  },
  {
   "cell_type": "code",
   "execution_count": 4,
   "metadata": {},
   "outputs": [],
   "source": [
    "# Definicia hypotenzneho javu \n",
    "df[\"hypotenzia_raw\"] = (\n",
    "    (df[\"ART_MBP\"] < 65) |\n",
    "    (df[\"ART_SBP\"] < 90) |\n",
    "    (df[\"ART_SBP\"] < df[\"Baseline_SBP\"] * 0.75)   \n",
    ")"
   ]
  },
  {
   "cell_type": "code",
   "execution_count": 5,
   "metadata": {},
   "outputs": [],
   "source": [
    "# Použijeme krolling window na zistenie ci hypotenzia trvala aspon 1 minutu\n",
    "df[\"hypotenzia_rolling\"] = df.groupby(\"caseid\")[\"hypotenzia_raw\"].transform(\n",
    "    lambda x: x.rolling(window=30, min_periods=30).sum() >= 30\n",
    ")"
   ]
  },
  {
   "cell_type": "code",
   "execution_count": 6,
   "metadata": {},
   "outputs": [],
   "source": [
    "# Pomocou any sa zistuje ci sa hypotenzia vyskytla aspon raz\n",
    "hypotenzia_per_case = df.groupby(\"caseid\")[\"hypotenzia_rolling\"].any().reset_index()\n",
    "\n",
    "hypotenzia_per_case.rename(columns={\"hypotenzia_rolling\": \"hypotenzia\"}, inplace=True)\n",
    "hypotenzia_per_case.to_csv(\"hypotenzia_cases_filtered.csv\", index=False)"
   ]
  },
  {
   "cell_type": "code",
   "execution_count": 7,
   "metadata": {},
   "outputs": [],
   "source": [
    "# stiahnutie cases\n",
    "cases_df = pd.read_csv(\"https://api.vitaldb.net/cases\")\n",
    "\n",
    "\n",
    "cases_df.to_csv(\"cases.csv\", index=False)"
   ]
  },
  {
   "cell_type": "code",
   "execution_count": 8,
   "metadata": {},
   "outputs": [],
   "source": [
    "\n",
    "# Zakladny subor obsahujuci klinicke informacie \n",
    "cases_df = pd.read_csv(\"cases.csv\")  \n",
    "\n",
    "hypotenzia_df = pd.read_csv(\"hypotenzia_cases_filtered.csv\")  \n",
    "\n",
    "# Zlucenie pre tie pripady ktore su v oboch tabulkach na zaklade caseid\n",
    "merged_df = cases_df.merge(hypotenzia_df, on=\"caseid\", how=\"inner\")\n",
    "\n",
    "\n",
    "merged_df.to_csv(\"cases_filtered.csv\", index=False) "
   ]
  },
  {
   "cell_type": "code",
   "execution_count": 9,
   "metadata": {},
   "outputs": [],
   "source": [
    "df=pd.read_csv(\"cases_filtered.csv\")\n",
    "\n",
    "# Odvodene atributy v hodinach a dnoch\n",
    "df[\"case_duration\"] = (df[\"caseend\"] - df[\"casestart\"])/3600  \n",
    "df[\"ane_duration\"] = abs((df[\"aneend\"]) - abs(df[\"anestart\"]))/3600 \n",
    "df[\"op_duration\"] = (df[\"opend\"] - df[\"opstart\"])/3600  \n",
    "df[\"hospital_stay\"] = (df[\"dis\"] - df[\"adm\"])/86400 "
   ]
  },
  {
   "cell_type": "code",
   "execution_count": 10,
   "metadata": {},
   "outputs": [],
   "source": [
    "# Pretypovanie hypotenzie (0 = False, 1 = True)\n",
    "df[\"hypotenzia\"] = df[\"hypotenzia\"].astype(int)\n",
    "\n",
    "\n",
    "df.to_csv(\"spojeny.csv\", index=False)\n"
   ]
  },
  {
   "cell_type": "code",
   "execution_count": 11,
   "metadata": {},
   "outputs": [
    {
     "name": "stdout",
     "output_type": "stream",
     "text": [
      "                     Počet chýbajúcich hodnôt  Percento chýbajúcich hodnôt\n",
      "lmasize                                  3513                    99.886267\n",
      "cline2                                   3460                    98.379301\n",
      "aline2                                   3419                    97.213534\n",
      "preop_be                                 3192                    90.759170\n",
      "preop_sao2                               3191                    90.730736\n",
      "preop_hco3                               3191                    90.730736\n",
      "preop_pao2                               3186                    90.588570\n",
      "preop_paco2                              3186                    90.588570\n",
      "preop_ph                                 3180                    90.417970\n",
      "dltubesize                               2593                    73.727609\n",
      "iv2                                      2135                    60.705146\n",
      "cline1                                   2008                    57.094114\n",
      "tubesize                                  988                    28.092124\n",
      "intraop_ebl                               916                    26.044925\n",
      "intraop_uo                                693                    19.704293\n",
      "preop_na                                  427                    12.141029\n",
      "preop_k                                   425                    12.084163\n",
      "preop_aptt                                283                     8.046631\n",
      "preop_pt                                  275                     7.819164\n",
      "preop_gluc                                271                     7.705431\n",
      "preop_ast                                 265                     7.534831\n",
      "preop_alb                                 265                     7.534831\n",
      "preop_cr                                  264                     7.506397\n",
      "preop_alt                                 263                     7.477964\n",
      "preop_bun                                 259                     7.364231\n",
      "cormack                                   255                     7.250498\n",
      "preop_plt                                 244                     6.937731\n",
      "preop_hb                                  243                     6.909298\n",
      "intraop_crystalloid                       126                     3.582599\n",
      "aline1                                     91                     2.587432\n",
      "asa                                        83                     2.359966\n",
      "position                                   70                     1.990333\n",
      "airway                                     58                     1.649133\n",
      "iv1                                        43                     1.222633\n"
     ]
    }
   ],
   "source": [
    "\n",
    "missing_values = df.isnull().sum()\n",
    "missing_values = missing_values[missing_values > 0]\n",
    "missing_percent = (missing_values / len(df)) * 100\n",
    "missing_data = pd.DataFrame({\"Počet chýbajúcich hodnôt\": missing_values, \"Percento chýbajúcich hodnôt\": missing_percent})\n",
    "\n",
    "# Zoradenie zostupne podla % chybajucich hodnot\n",
    "missing_data = missing_data.sort_values(by=\"Percento chýbajúcich hodnôt\", ascending=False)\n",
    "\n",
    "# Zobrazenie tabuľky\n",
    "print(missing_data)"
   ]
  },
  {
   "cell_type": "code",
   "execution_count": null,
   "metadata": {},
   "outputs": [],
   "source": []
  }
 ],
 "metadata": {
  "kernelspec": {
   "display_name": "Python 3 (ipykernel)",
   "language": "python",
   "name": "python3"
  },
  "language_info": {
   "codemirror_mode": {
    "name": "ipython",
    "version": 3
   },
   "file_extension": ".py",
   "mimetype": "text/x-python",
   "name": "python",
   "nbconvert_exporter": "python",
   "pygments_lexer": "ipython3",
   "version": "3.12.10"
  }
 },
 "nbformat": 4,
 "nbformat_minor": 4
}
